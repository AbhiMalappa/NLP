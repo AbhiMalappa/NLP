{
  "nbformat": 4,
  "nbformat_minor": 0,
  "metadata": {
    "colab": {
      "provenance": [],
      "machine_shape": "hm",
      "gpuType": "T4",
      "mount_file_id": "1hBMM6Mc_XuMcbK6X4MxZDhpLr8HNEeTc",
      "authorship_tag": "ABX9TyMTBQUy72WGt+5yfujXfXPv",
      "include_colab_link": true
    },
    "kernelspec": {
      "name": "python3",
      "display_name": "Python 3"
    },
    "language_info": {
      "name": "python"
    },
    "accelerator": "GPU"
  },
  "cells": [
    {
      "cell_type": "markdown",
      "metadata": {
        "id": "view-in-github",
        "colab_type": "text"
      },
      "source": [
        "<a href=\"https://colab.research.google.com/github/AbhiMalappa/NLP/blob/main/helpdesk_BERT_predict.ipynb\" target=\"_parent\"><img src=\"https://colab.research.google.com/assets/colab-badge.svg\" alt=\"Open In Colab\"/></a>"
      ]
    },
    {
      "cell_type": "code",
      "execution_count": null,
      "metadata": {
        "id": "DeaciChZY9tw"
      },
      "outputs": [],
      "source": [
        "from IPython.core.interactiveshell import InteractiveShell\n",
        "InteractiveShell.ast_node_interactivity = \"all\"\n",
        "\n",
        "from torch import nn\n",
        "from transformers import AutoTokenizer, AutoModelForSequenceClassification\n",
        "from transformers import pipeline\n",
        "import torch\n"
      ]
    },
    {
      "cell_type": "code",
      "source": [
        "# funct to get predictions\n",
        "model_ckpt = \"drive/MyDrive/Colab Notebooks/NLP/trained_model/Finetune_BERT_for_helpdesk_issue_classification\"\n",
        "model_ckpt = \"drive/MyDrive/Colab Notebooks/NLP/trained_model/V2_Finetune_BERT_for_helpdesk_issue_classification_7_class\"\n",
        "\n",
        "def get_pred(text):\n",
        "\n",
        "  device = torch.device(\"cuda\")\n",
        "\n",
        "  #read model\n",
        "  model = AutoModelForSequenceClassification.from_pretrained(model_ckpt).to(device)\n",
        "\n",
        "  # from model config get labels names\n",
        "  labels = model.config.id2label.values()\n",
        "  labels = list(labels)\n",
        "\n",
        "  #tokenize input\n",
        "  tokenizer = AutoTokenizer.from_pretrained('bert-base-uncased')\n",
        "  input_encoded = tokenizer(text, return_tensors='pt').to(device)\n",
        "\n",
        "  # get model pred on tokenized input\n",
        "  with torch.no_grad():\n",
        "    outputs = model(**input_encoded) # output is a torch tensor with logit values on gpu\n",
        "\n",
        "  #output logits\n",
        "  logits = outputs.logits[0] # get logit values\n",
        "  #output probs\n",
        "  probabilities = nn.functional.softmax(logits, dim=-1) # convert logit to prob\n",
        "\n",
        "  # return a dic with labels and probs\n",
        "  probabilities = probabilities.cpu().detach().numpy() # convert to numpy on cpu\n",
        "  result = {labels[i]: probabilities[i] for i in range(len(labels))}\n",
        "\n",
        "  return result, #probabilities\n",
        "\n",
        "def pipeline_clf(text):\n",
        "  device = torch.device(\"cuda\")\n",
        "  clf = pipeline('text-classification',model = model_ckpt)\n",
        "  pipeline_clf_label = clf(text)[0]['label']\n",
        "  pipeline_clf_score = clf(text)[0]['score']\n",
        "  return pipeline_clf_label, pipeline_clf_score\n"
      ],
      "metadata": {
        "id": "od5f84V6oI8c"
      },
      "execution_count": null,
      "outputs": []
    },
    {
      "cell_type": "markdown",
      "source": [
        "### Predict on new data"
      ],
      "metadata": {
        "id": "SfXHAmJH95fe"
      }
    },
    {
      "cell_type": "code",
      "source": [
        "import pandas as pd\n",
        "import numpy as np\n",
        "df = pd.read_csv('drive/MyDrive/Colab Notebooks/training_text_calssifiaction.csv')\n",
        "df = df.sample(3)\n",
        "\n",
        "# call prediction\n",
        "df['pred_label'] = df['string_value'].apply(lambda x: pipeline_clf(x)[0])\n",
        "df['pred_label_score'] = df['string_value'].apply(lambda x: pipeline_clf(x)[1])\n",
        "df['pred_val_all_class'] = df['string_value'].apply(lambda x: get_pred(x))\n",
        "\n",
        "df.head(2)"
      ],
      "metadata": {
        "id": "QWD-fRrN9wSK"
      },
      "execution_count": null,
      "outputs": []
    },
    {
      "cell_type": "code",
      "source": [],
      "metadata": {
        "id": "kBAqQDgW-Oib"
      },
      "execution_count": null,
      "outputs": []
    },
    {
      "cell_type": "markdown",
      "source": [
        "### Predict on text input"
      ],
      "metadata": {
        "id": "wNz2N0_t-Um0"
      }
    },
    {
      "cell_type": "code",
      "source": [
        "text = [\n",
        "    \" agent went home early \"\n",
        "    ]"
      ],
      "metadata": {
        "id": "XUmNnVXPqOf3"
      },
      "execution_count": null,
      "outputs": []
    },
    {
      "cell_type": "code",
      "source": [
        "sentement_obj(text)\n",
        "#print(f' Top pred - {pipeline_clf(text)}\\n')\n",
        "\n",
        "get_pred(text)"
      ],
      "metadata": {
        "colab": {
          "base_uri": "https://localhost:8080/"
        },
        "id": "lwUqs4xt-mNL",
        "outputId": "b615d7e9-fb66-443d-ac40-b695228ff6bc"
      },
      "execution_count": null,
      "outputs": [
        {
          "output_type": "execute_result",
          "data": {
            "text/plain": [
              "[{'label': 'neutral', 'score': 0.8309993743896484}]"
            ]
          },
          "metadata": {},
          "execution_count": 41
        },
        {
          "output_type": "execute_result",
          "data": {
            "text/plain": [
              "({'agent_unprofessional': 0.058254667,\n",
              "  'long_holdtime': 0.5411721,\n",
              "  'multiple_contacts_made': 0.14343858,\n",
              "  'negative_feedback': 0.11775059,\n",
              "  'no_resolution': 0.044664945,\n",
              "  'positive_feedback': 0.083976366,\n",
              "  'service_portal': 0.0107428245},)"
            ]
          },
          "metadata": {},
          "execution_count": 41
        }
      ]
    }
  ]
}